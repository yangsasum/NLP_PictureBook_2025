{
  "nbformat": 4,
  "nbformat_minor": 0,
  "metadata": {
    "colab": {
      "provenance": [],
      "include_colab_link": true
    },
    "kernelspec": {
      "name": "python3",
      "display_name": "Python 3"
    },
    "language_info": {
      "name": "python"
    }
  },
  "cells": [
    {
      "cell_type": "markdown",
      "metadata": {
        "id": "view-in-github",
        "colab_type": "text"
      },
      "source": [
        "<a href=\"https://colab.research.google.com/github/yangsasum/NLP_PictureBook_2025/blob/main/1_sample_makeinputtextfile4furthernalysis_tokencleanlowerapplied.ipynb\" target=\"_parent\"><img src=\"https://colab.research.google.com/assets/colab-badge.svg\" alt=\"Open In Colab\"/></a>"
      ]
    },
    {
      "cell_type": "markdown",
      "source": [
        "#1️⃣ <font color = 'red'> 🐹🐾 **Final Script to prepare input text for further analysis (e.g., Wordcloud, Lexical Diversity, etc.)**\n",
        "\n",
        "  - # <font color = 'blue'> 🐹🐾 **Important & Useful!**\n",
        "  - ### **This script is based on plain text for \"The tale of Benjamin Bunny by Beatrix Potter\" under the Repository of \"PictureBook_Project_Demo_2025\".**"
      ],
      "metadata": {
        "id": "DlRtfSQYdex6"
      }
    },
    {
      "cell_type": "code",
      "execution_count": null,
      "metadata": {
        "colab": {
          "base_uri": "https://localhost:8080/"
        },
        "id": "GT0LsgO85fCm",
        "outputId": "1c8c4e72-f9b3-46b6-ed7e-2a2c9d40ad04"
      },
      "outputs": [
        {
          "output_type": "stream",
          "name": "stdout",
          "text": [
            "Cloning into 'PictureBook_Project_Demo'...\n",
            "remote: Enumerating objects: 125, done.\u001b[K\n",
            "remote: Counting objects: 100% (125/125), done.\u001b[K\n",
            "remote: Compressing objects: 100% (122/122), done.\u001b[K\n",
            "remote: Total 125 (delta 60), reused 0 (delta 0), pack-reused 0 (from 0)\u001b[K\n",
            "Receiving objects: 100% (125/125), 91.65 KiB | 1.12 MiB/s, done.\n",
            "Resolving deltas: 100% (60/60), done.\n"
          ]
        }
      ],
      "source": [
        "! git clone https://github.com/ms624atyale/PictureBook_Project_Demo  #Make copy of the whole repository of a github account."
      ]
    },
    {
      "cell_type": "markdown",
      "source": [
        "##<font color = 'red'> 🆘 **ALERT**\n",
        "## <font color = 'red'> 🆘 **Important & Useful!**\n",
        "\n",
        "## ⤵️ In order to avoid setting a new repository being created as a subdirectory of the old one\n",
        "\n",
        "### <font color = 'blue'> <Python code>\n",
        "### <font color = 'blue'> %cd /content  # Moves to the default root directory in Google Colab\n",
        "\n",
        "## ⤵️ In order to delete the old directory forcefully\n",
        "\n",
        "### <font color = 'blue'> **▶️ Python code**\n",
        "### <font color = 'gray'> **! rm -rf NameofOldRepository**          \n",
        "\n",
        "### <font color = 'gray'> (e.g., **! rm -rf NLP_PictureBook_2025**)\n",
        "\n",
        "# **If this is not working out, rename the old, existing folder as <Eliminated> and drag the new repository under %content/.**\n"
      ],
      "metadata": {
        "id": "fPmvcdN0KP_0"
      }
    },
    {
      "cell_type": "markdown",
      "source": [
        "#2️⃣ 🐹🐾 **Set up the current directory**"
      ],
      "metadata": {
        "id": "7l39aMcg6QF8"
      }
    },
    {
      "cell_type": "code",
      "source": [
        "%cd /content/PictureBook_Project_Demo"
      ],
      "metadata": {
        "colab": {
          "base_uri": "https://localhost:8080/"
        },
        "id": "NyQD9Oxo7Me6",
        "outputId": "d8a1a3f2-c7f2-464a-ca64-e3e620061936"
      },
      "execution_count": null,
      "outputs": [
        {
          "output_type": "stream",
          "name": "stdout",
          "text": [
            "/content/PictureBook_Project_Demo\n"
          ]
        }
      ]
    },
    {
      "cell_type": "markdown",
      "source": [
        "#3️⃣ 🐹🐾 **Read the txt file**"
      ],
      "metadata": {
        "id": "ugQTa2Md66W5"
      }
    },
    {
      "cell_type": "code",
      "source": [
        "# ▶️ Step 1: You need to modify this codeline 🍎🍎🍎🍎🍎\n",
        "file = open(\"/content/PictureBook_Project_Demo/Data_UTF8/1_BenjaminBunny_Body_BeatrixPotter.txt\", 'rt')\n",
        "\n",
        "txt = file.read()\n",
        "print(txt)\n",
        "file.close() #Using this close()function, you are no longer using your text file of the current workingdirectory with open()function."
      ],
      "metadata": {
        "id": "r_tn-hJp9gje",
        "collapsed": true,
        "colab": {
          "base_uri": "https://localhost:8080/"
        },
        "outputId": "bd8f8aa1-7b58-4287-b426-02c95165201b"
      },
      "execution_count": null,
      "outputs": [
        {
          "output_type": "stream",
          "name": "stdout",
          "text": [
            "text@title@creator\n",
            "[Illustration]\n",
            "\n",
            "One morning a little rabbit sat on a bank.\n",
            "\n",
            "He pricked his ears and listened to the trit-trot, trit-trot of a pony.\n",
            "\n",
            "A gig was coming along the road; it was driven by Mr. McGregor, and beside\n",
            "him sat Mrs. McGregor in her best bonnet.\n",
            "\n",
            "As soon as they had passed, little Benjamin Bunny slid down into the road,\n",
            "and set off--with a hop, skip, and a jump--to call upon his relations, who\n",
            "lived in the wood at the back of Mr. McGregor's garden.\n",
            "\n",
            "[Illustration]\n",
            "\n",
            "[Illustration]\n",
            "\n",
            "That wood was full of rabbit holes; and in the neatest, sandiest hole of\n",
            "all lived Benjamin's aunt and his cousins--Flopsy, Mopsy, Cotton-tail, and\n",
            "Peter.\n",
            "\n",
            "Old Mrs. Rabbit was a widow; she earned her living by knitting rabbit-wool\n",
            "mittens and muffatees (I once bought a pair at a bazaar). She also sold\n",
            "herbs, and rosemary tea, and rabbit-tobacco (which is what we call\n",
            "lavender).\n",
            "\n",
            "Little Benjamin did not very much want to see his Aunt.\n",
            "\n",
            "He came round the back of the fir-tree, and nearly tumbled upon the top of\n",
            "his Cousin Peter.\n",
            "\n",
            "[Illustration]\n",
            "\n",
            "[Illustration]\n",
            "\n",
            "Peter was sitting by himself. He looked poorly, and was dressed in a red\n",
            "cotton pocket-handkerchief.\n",
            "\n",
            "\"Peter,\" said little Benjamin, in a whisper, \"who has got your clothes?\"\n",
            "\n",
            "Peter replied, \"The scarecrow in Mr. McGregor's garden,\" and described how\n",
            "he had been chased about the garden, and had dropped his shoes and coat.\n",
            "\n",
            "Little Benjamin sat down beside his cousin and assured him that Mr.\n",
            "McGregor had gone out in a gig, and Mrs. McGregor also; and certainly for\n",
            "the day, because she was wearing her best bonnet.\n",
            "\n",
            "[Illustration]\n",
            "\n",
            "[Illustration]\n",
            "\n",
            "Peter said he hoped that it would rain.\n",
            "\n",
            "At this point old Mrs. Rabbit's voice was heard inside the rabbit hole,\n",
            "calling: \"Cotton-tail! Cotton-tail! fetch some more camomile!\"\n",
            "\n",
            "Peter said he thought he might feel better if he went for a walk.\n",
            "\n",
            "They went away hand in hand, and got upon the flat top of the wall at the\n",
            "bottom of the wood. From here they looked down into Mr. McGregor's garden.\n",
            "Peter's coat and shoes were plainly to be seen upon the scarecrow, topped\n",
            "with an old tam-o'-shanter of Mr. McGregor's.\n",
            "\n",
            "[Illustration]\n",
            "\n",
            "[Illustration]\n",
            "\n",
            "Little Benjamin said: \"It spoils people's clothes to squeeze under a gate;\n",
            "the proper way to get in is to climb down a pear-tree.\"\n",
            "\n",
            "Peter fell down head first; but it was of no consequence, as the bed below\n",
            "was newly raked and quite soft.\n",
            "\n",
            "It had been sown with lettuces.\n",
            "\n",
            "They left a great many odd little footmarks all over the bed, especially\n",
            "little Benjamin, who was wearing clogs.\n",
            "\n",
            "[Illustration]\n",
            "\n",
            "[Illustration]\n",
            "\n",
            "Little Benjamin said that the first thing to be done was to get back\n",
            "Peter's clothes, in order that they might be able to use the\n",
            "pocket-handkerchief.\n",
            "\n",
            "They took them off the scarecrow. There had been rain during the night;\n",
            "there was water in the shoes, and the coat was somewhat shrunk.\n",
            "\n",
            "Benjamin tried on the tam-o'-shanter, but it was too big for him.\n",
            "\n",
            "Then he suggested that they should fill the pocket-handkerchief with\n",
            "onions, as a little present for his Aunt.\n",
            "\n",
            "Peter did not seem to be enjoying himself; he kept hearing noises.\n",
            "\n",
            "[Illustration]\n",
            "\n",
            "[Illustration]\n",
            "\n",
            "\n",
            "Benjamin, on the contrary, was perfectly at home, and ate a lettuce leaf.\n",
            "He said that he was in the habit of coming to the garden with his father\n",
            "to get lettuces for their Sunday dinner.\n",
            "\n",
            "(The name of little Benjamin's papa was old Mr. Benjamin Bunny.)\n",
            "\n",
            "The lettuces certainly were very fine.\n",
            "\n",
            "Peter did not eat anything; he said he should like to go home. Presently\n",
            "he dropped half the onions.\n",
            "\n",
            "[Illustration]\n",
            "\n",
            "[Illustration]\n",
            "\n",
            "Little Benjamin said that it was not possible to get back up the pear-tree\n",
            "with a load of vegetables. He led the way boldly towards the other end of\n",
            "the garden. They went along a little walk on planks, under a sunny, red\n",
            "brick wall.\n",
            "\n",
            "The mice sat on their doorsteps cracking cherry-stones; they winked at\n",
            "Peter Rabbit and little Benjamin Bunny.\n",
            "\n",
            "Presently Peter let the pocket-handkerchief go again.\n",
            "\n",
            "[Illustration]\n",
            "\n",
            "[Illustration]\n",
            "\n",
            "They got amongst flower-pots, and frames, and tubs. Peter heard noises\n",
            "worse than ever; his eyes were as big as lolly-pops!\n",
            "\n",
            "He was a step or two in front of his cousin when he suddenly stopped.\n",
            "\n",
            "This is what those little rabbits saw round that corner!\n",
            "\n",
            "Little Benjamin took one look, and then, in half a minute less than no\n",
            "time, he hid himself and Peter and the onions underneath a large\n",
            "basket....\n",
            "\n",
            "[Illustration]\n",
            "\n",
            "[Illustration]\n",
            "\n",
            "The cat got up and stretched herself, and came and sniffed at the basket.\n",
            "\n",
            "Perhaps she liked the smell of onions!\n",
            "\n",
            "Anyway, she sat down upon the top of the basket.\n",
            "\n",
            "She sat there for _five hours_.\n",
            "\n",
            "       *       *       *       *       *\n",
            "\n",
            "I cannot draw you a picture of Peter and Benjamin underneath the basket,\n",
            "because it was quite dark, and because the smell of onions was fearful; it\n",
            "made Peter Rabbit and little Benjamin cry.\n",
            "\n",
            "The sun got round behind the wood, and it was quite late in the afternoon;\n",
            "but still the cat sat upon the basket.\n",
            "\n",
            "[Illustration]\n",
            "\n",
            "[Illustration]\n",
            "\n",
            "At length there was a pitter-patter, pitter-patter, and some bits of\n",
            "mortar fell from the wall above.\n",
            "\n",
            "The cat looked up and saw old Mr. Benjamin Bunny prancing along the top of\n",
            "the wall of the upper terrace.\n",
            "\n",
            "He was smoking a pipe of rabbit-tobacco, and had a little switch in his\n",
            "hand.\n",
            "\n",
            "He was looking for his son.\n",
            "\n",
            "Old Mr. Bunny had no opinion whatever of cats.\n",
            "\n",
            "He took a tremendous jump off the top of the wall on to the top of the\n",
            "cat, and cuffed it off the basket, and kicked it into the greenhouse,\n",
            "scratching off a handful of fur.\n",
            "\n",
            "The cat was too much surprised to scratch back.\n",
            "\n",
            "[Illustration]\n",
            "\n",
            "[Illustration]\n",
            "\n",
            "When old Mr. Bunny had driven the cat into the greenhouse, he locked the\n",
            "door.\n",
            "\n",
            "Then he came back to the basket and took out his son Benjamin by the ears,\n",
            "and whipped him with the little switch.\n",
            "\n",
            "Then he took out his nephew Peter.\n",
            "\n",
            "Then he took out the handkerchief of onions, and marched out of the\n",
            "garden.\n",
            "\n",
            "[Illustration]\n",
            "\n",
            "When Mr. McGregor returned about half an hour later he observed several\n",
            "things which perplexed him.\n",
            "\n",
            "It looked as though some person had been walking all over the garden in a\n",
            "pair of clogs--only the footmarks were too ridiculously little!\n",
            "\n",
            "Also he could not understand how the cat could have managed to shut\n",
            "herself up _inside_ the greenhouse, locking the door upon the _outside_.\n",
            "\n",
            "[Illustration]\n",
            "\n",
            "[Illustration]\n",
            "\n",
            "When Peter got home his mother forgave him, because she was so glad to see\n",
            "that he had found his shoes and coat. Cotton-tail and Peter folded up the\n",
            "pocket-handkerchief, and old Mrs. Rabbit strung up the onions and hung\n",
            "them from the kitchen ceiling, with the bunches of herbs and the\n",
            "rabbit-tobacco.@THE TALE OF BENJAMIN BUNNY@BEATRIX POTTER\n"
          ]
        }
      ]
    },
    {
      "cell_type": "markdown",
      "source": [
        "#4️⃣ 🐹🐾 **Install NLTK and Download necessary models**"
      ],
      "metadata": {
        "id": "jt3svU1cp2zm"
      }
    },
    {
      "cell_type": "code",
      "source": [
        "!pip install nltk\n",
        "import nltk\n",
        "nltk.download('punkt')\n",
        "nltk.download('punkt_tab')"
      ],
      "metadata": {
        "id": "gBwuDza2-JwS",
        "collapsed": true,
        "colab": {
          "base_uri": "https://localhost:8080/"
        },
        "outputId": "ba1e3cb9-85ea-4855-dc21-949fda8dce1a"
      },
      "execution_count": null,
      "outputs": [
        {
          "output_type": "stream",
          "name": "stdout",
          "text": [
            "Requirement already satisfied: nltk in /usr/local/lib/python3.11/dist-packages (3.9.1)\n",
            "Requirement already satisfied: click in /usr/local/lib/python3.11/dist-packages (from nltk) (8.2.0)\n",
            "Requirement already satisfied: joblib in /usr/local/lib/python3.11/dist-packages (from nltk) (1.5.0)\n",
            "Requirement already satisfied: regex>=2021.8.3 in /usr/local/lib/python3.11/dist-packages (from nltk) (2024.11.6)\n",
            "Requirement already satisfied: tqdm in /usr/local/lib/python3.11/dist-packages (from nltk) (4.67.1)\n"
          ]
        },
        {
          "output_type": "stream",
          "name": "stderr",
          "text": [
            "[nltk_data] Downloading package punkt to /root/nltk_data...\n",
            "[nltk_data]   Package punkt is already up-to-date!\n",
            "[nltk_data] Downloading package punkt_tab to /root/nltk_data...\n",
            "[nltk_data]   Package punkt_tab is already up-to-date!\n"
          ]
        },
        {
          "output_type": "execute_result",
          "data": {
            "text/plain": [
              "True"
            ]
          },
          "metadata": {},
          "execution_count": 101
        }
      ]
    },
    {
      "cell_type": "markdown",
      "source": [
        "# 5️⃣ 🐹🐾 **Just checking with tokenizing sentences**"
      ],
      "metadata": {
        "id": "pU7HuODPp4H9"
      }
    },
    {
      "cell_type": "code",
      "source": [
        "from nltk.tokenize import sent_tokenize\n",
        "sentence = sent_tokenize(txt)\n",
        "print('Sentence Tokenized: %s' %sentence)"
      ],
      "metadata": {
        "id": "6nya4AxT-2iR",
        "colab": {
          "base_uri": "https://localhost:8080/"
        },
        "outputId": "59678c8b-7877-40c4-89cf-18e30df53669"
      },
      "execution_count": null,
      "outputs": [
        {
          "output_type": "stream",
          "name": "stdout",
          "text": [
            "Sentence Tokenized: ['text@title@creator\\n[Illustration]\\n\\nOne morning a little rabbit sat on a bank.', 'He pricked his ears and listened to the trit-trot, trit-trot of a pony.', 'A gig was coming along the road; it was driven by Mr. McGregor, and beside\\nhim sat Mrs. McGregor in her best bonnet.', \"As soon as they had passed, little Benjamin Bunny slid down into the road,\\nand set off--with a hop, skip, and a jump--to call upon his relations, who\\nlived in the wood at the back of Mr. McGregor's garden.\", \"[Illustration]\\n\\n[Illustration]\\n\\nThat wood was full of rabbit holes; and in the neatest, sandiest hole of\\nall lived Benjamin's aunt and his cousins--Flopsy, Mopsy, Cotton-tail, and\\nPeter.\", 'Old Mrs. Rabbit was a widow; she earned her living by knitting rabbit-wool\\nmittens and muffatees (I once bought a pair at a bazaar).', 'She also sold\\nherbs, and rosemary tea, and rabbit-tobacco (which is what we call\\nlavender).', 'Little Benjamin did not very much want to see his Aunt.', 'He came round the back of the fir-tree, and nearly tumbled upon the top of\\nhis Cousin Peter.', '[Illustration]\\n\\n[Illustration]\\n\\nPeter was sitting by himself.', 'He looked poorly, and was dressed in a red\\ncotton pocket-handkerchief.', '\"Peter,\" said little Benjamin, in a whisper, \"who has got your clothes?\"', 'Peter replied, \"The scarecrow in Mr. McGregor\\'s garden,\" and described how\\nhe had been chased about the garden, and had dropped his shoes and coat.', 'Little Benjamin sat down beside his cousin and assured him that Mr.\\nMcGregor had gone out in a gig, and Mrs. McGregor also; and certainly for\\nthe day, because she was wearing her best bonnet.', '[Illustration]\\n\\n[Illustration]\\n\\nPeter said he hoped that it would rain.', 'At this point old Mrs. Rabbit\\'s voice was heard inside the rabbit hole,\\ncalling: \"Cotton-tail!', 'Cotton-tail!', 'fetch some more camomile!\"', 'Peter said he thought he might feel better if he went for a walk.', 'They went away hand in hand, and got upon the flat top of the wall at the\\nbottom of the wood.', \"From here they looked down into Mr. McGregor's garden.\", \"Peter's coat and shoes were plainly to be seen upon the scarecrow, topped\\nwith an old tam-o'-shanter of Mr. McGregor's.\", '[Illustration]\\n\\n[Illustration]\\n\\nLittle Benjamin said: \"It spoils people\\'s clothes to squeeze under a gate;\\nthe proper way to get in is to climb down a pear-tree.\"', 'Peter fell down head first; but it was of no consequence, as the bed below\\nwas newly raked and quite soft.', 'It had been sown with lettuces.', 'They left a great many odd little footmarks all over the bed, especially\\nlittle Benjamin, who was wearing clogs.', \"[Illustration]\\n\\n[Illustration]\\n\\nLittle Benjamin said that the first thing to be done was to get back\\nPeter's clothes, in order that they might be able to use the\\npocket-handkerchief.\", 'They took them off the scarecrow.', 'There had been rain during the night;\\nthere was water in the shoes, and the coat was somewhat shrunk.', \"Benjamin tried on the tam-o'-shanter, but it was too big for him.\", 'Then he suggested that they should fill the pocket-handkerchief with\\nonions, as a little present for his Aunt.', 'Peter did not seem to be enjoying himself; he kept hearing noises.', '[Illustration]\\n\\n[Illustration]\\n\\n\\nBenjamin, on the contrary, was perfectly at home, and ate a lettuce leaf.', 'He said that he was in the habit of coming to the garden with his father\\nto get lettuces for their Sunday dinner.', \"(The name of little Benjamin's papa was old Mr. Benjamin Bunny.)\", 'The lettuces certainly were very fine.', 'Peter did not eat anything; he said he should like to go home.', 'Presently\\nhe dropped half the onions.', '[Illustration]\\n\\n[Illustration]\\n\\nLittle Benjamin said that it was not possible to get back up the pear-tree\\nwith a load of vegetables.', 'He led the way boldly towards the other end of\\nthe garden.', 'They went along a little walk on planks, under a sunny, red\\nbrick wall.', 'The mice sat on their doorsteps cracking cherry-stones; they winked at\\nPeter Rabbit and little Benjamin Bunny.', 'Presently Peter let the pocket-handkerchief go again.', '[Illustration]\\n\\n[Illustration]\\n\\nThey got amongst flower-pots, and frames, and tubs.', 'Peter heard noises\\nworse than ever; his eyes were as big as lolly-pops!', 'He was a step or two in front of his cousin when he suddenly stopped.', 'This is what those little rabbits saw round that corner!', 'Little Benjamin took one look, and then, in half a minute less than no\\ntime, he hid himself and Peter and the onions underneath a large\\nbasket....\\n\\n[Illustration]\\n\\n[Illustration]\\n\\nThe cat got up and stretched herself, and came and sniffed at the basket.', 'Perhaps she liked the smell of onions!', 'Anyway, she sat down upon the top of the basket.', 'She sat there for _five hours_.', '*       *       *       *       *\\n\\nI cannot draw you a picture of Peter and Benjamin underneath the basket,\\nbecause it was quite dark, and because the smell of onions was fearful; it\\nmade Peter Rabbit and little Benjamin cry.', 'The sun got round behind the wood, and it was quite late in the afternoon;\\nbut still the cat sat upon the basket.', '[Illustration]\\n\\n[Illustration]\\n\\nAt length there was a pitter-patter, pitter-patter, and some bits of\\nmortar fell from the wall above.', 'The cat looked up and saw old Mr. Benjamin Bunny prancing along the top of\\nthe wall of the upper terrace.', 'He was smoking a pipe of rabbit-tobacco, and had a little switch in his\\nhand.', 'He was looking for his son.', 'Old Mr. Bunny had no opinion whatever of cats.', 'He took a tremendous jump off the top of the wall on to the top of the\\ncat, and cuffed it off the basket, and kicked it into the greenhouse,\\nscratching off a handful of fur.', 'The cat was too much surprised to scratch back.', '[Illustration]\\n\\n[Illustration]\\n\\nWhen old Mr. Bunny had driven the cat into the greenhouse, he locked the\\ndoor.', 'Then he came back to the basket and took out his son Benjamin by the ears,\\nand whipped him with the little switch.', 'Then he took out his nephew Peter.', 'Then he took out the handkerchief of onions, and marched out of the\\ngarden.', '[Illustration]\\n\\nWhen Mr. McGregor returned about half an hour later he observed several\\nthings which perplexed him.', 'It looked as though some person had been walking all over the garden in a\\npair of clogs--only the footmarks were too ridiculously little!', 'Also he could not understand how the cat could have managed to shut\\nherself up _inside_ the greenhouse, locking the door upon the _outside_.', '[Illustration]\\n\\n[Illustration]\\n\\nWhen Peter got home his mother forgave him, because she was so glad to see\\nthat he had found his shoes and coat.', 'Cotton-tail and Peter folded up the\\npocket-handkerchief, and old Mrs. Rabbit strung up the onions and hung\\nthem from the kitchen ceiling, with the bunches of herbs and the\\nrabbit-tobacco.', '@THE TALE OF BENJAMIN BUNNY@BEATRIX POTTER']\n"
          ]
        }
      ]
    },
    {
      "cell_type": "markdown",
      "source": [
        "# 6️⃣ 📍📍 **Apply a series of functions for replacement**"
      ],
      "metadata": {
        "id": "s9pIkCMfI-oc"
      }
    },
    {
      "cell_type": "code",
      "source": [
        "import re\n",
        "\n",
        "# Step 1: Read file to change path as needed 🍎🍎🍎🍎🍎🍎\n",
        "with open(\"/content/PictureBook_Project_Demo/Data_UTF8/1_BenjaminBunny_Body_BeatrixPotter.txt\", 'rt') as fl:\n",
        "    raw_text = fl.read()\n",
        "\n",
        "# STEP 2: Clean the text\n",
        "clean_text = (\n",
        "    raw_text\n",
        "    .lower()\n",
        "    .replace(\"\\n\", \" \")\n",
        "    .replace(\"“\", \"\")\n",
        "    .replace(\"”\", \"\")\n",
        "    .replace(\"\\\"\", \"\")\n",
        "    .replace(\"_\", \"\")\n",
        "    .replace(\"[illustration]\", \"\")\n",
        "    .replace(\"*\", \"\")\n",
        "    .replace(\"?\", \"\")\n",
        "    .replace(\"!\", \"\")\n",
        "    .replace(\"--\", \" \")\n",
        "    .replace(\":\", \" \")\n",
        "    .replace(\";\", \"\")\n",
        "    .replace(\".\", \"\")\n",
        "    .replace(\",\", \"\")\n",
        "    .replace(\"(\", \"\")\n",
        "    .replace(\")\", \"\")\n",
        ")\n",
        "\n",
        "# STEP 3: Save the cleaned content to a NEW file as you designate the output path 🍏🍏🍏🍏🍏🍏\n",
        "output_path = \"/content/PictureBook_Project_Demo/Data_Clean/1_BenjaminBunny_CLEANED.txt\"\n",
        "with open(output_path, 'w') as cf:\n",
        "    cf.write(clean_text) #Get content named 'clean_text' to the new empty file\n",
        "\n",
        "# Optional: Print to verify\n",
        "print(\"✅ Cleaned text saved to:\", output_path)"
      ],
      "metadata": {
        "colab": {
          "base_uri": "https://localhost:8080/",
          "height": 211
        },
        "id": "9l6dyLoYImhx",
        "outputId": "c2b1a0b5-b006-4105-ffb0-2a7526af1851"
      },
      "execution_count": 1,
      "outputs": [
        {
          "output_type": "error",
          "ename": "FileNotFoundError",
          "evalue": "[Errno 2] No such file or directory: '/content/PictureBook_Project_Demo/Data_UTF8/1_BenjaminBunny_Body_BeatrixPotter.txt'",
          "traceback": [
            "\u001b[0;31m---------------------------------------------------------------------------\u001b[0m",
            "\u001b[0;31mFileNotFoundError\u001b[0m                         Traceback (most recent call last)",
            "\u001b[0;32m<ipython-input-1-c1d6eb7d9b3b>\u001b[0m in \u001b[0;36m<cell line: 0>\u001b[0;34m()\u001b[0m\n\u001b[1;32m      2\u001b[0m \u001b[0;34m\u001b[0m\u001b[0m\n\u001b[1;32m      3\u001b[0m \u001b[0;31m# Step 1: Read file to change path as needed 🍎🍎🍎🍎🍎🍎\u001b[0m\u001b[0;34m\u001b[0m\u001b[0;34m\u001b[0m\u001b[0m\n\u001b[0;32m----> 4\u001b[0;31m \u001b[0;32mwith\u001b[0m \u001b[0mopen\u001b[0m\u001b[0;34m(\u001b[0m\u001b[0;34m\"/content/PictureBook_Project_Demo/Data_UTF8/1_BenjaminBunny_Body_BeatrixPotter.txt\"\u001b[0m\u001b[0;34m,\u001b[0m \u001b[0;34m'rt'\u001b[0m\u001b[0;34m)\u001b[0m \u001b[0;32mas\u001b[0m \u001b[0mfl\u001b[0m\u001b[0;34m:\u001b[0m\u001b[0;34m\u001b[0m\u001b[0;34m\u001b[0m\u001b[0m\n\u001b[0m\u001b[1;32m      5\u001b[0m     \u001b[0mraw_text\u001b[0m \u001b[0;34m=\u001b[0m \u001b[0mfl\u001b[0m\u001b[0;34m.\u001b[0m\u001b[0mread\u001b[0m\u001b[0;34m(\u001b[0m\u001b[0;34m)\u001b[0m\u001b[0;34m\u001b[0m\u001b[0;34m\u001b[0m\u001b[0m\n\u001b[1;32m      6\u001b[0m \u001b[0;34m\u001b[0m\u001b[0m\n",
            "\u001b[0;31mFileNotFoundError\u001b[0m: [Errno 2] No such file or directory: '/content/PictureBook_Project_Demo/Data_UTF8/1_BenjaminBunny_Body_BeatrixPotter.txt'"
          ]
        }
      ]
    },
    {
      "cell_type": "markdown",
      "source": [
        "##7️⃣ 🐹🐾 **Dlownload .txt file(s) created under the Data_Clean folder to the relevant directory (e.g., Data_Clean) of your github account**"
      ],
      "metadata": {
        "id": "EEW_ereGc1i_"
      }
    },
    {
      "cell_type": "markdown",
      "source": [
        "# 8️⃣ 🐹🐾 **Just cheking the result file with cleaning applied**\n",
        "- **Sentence Tokenization**\n",
        "- **Tokenizing Words with Regular Tokenizer**\n",
        "- **Get tokenized words put in sequence**"
      ],
      "metadata": {
        "id": "SACJ4rQ5qPo-"
      }
    },
    {
      "cell_type": "code",
      "source": [
        "from nltk.tokenize import sent_tokenize\n",
        "\n",
        "sentence = sent_tokenize(clean_text)\n",
        "print('Sentence Tokenized: %s' %sentence)\n",
        "\n",
        "from nltk.tokenize import RegexpTokenizer #RegexpTokenizer as a class\n",
        "import re\n",
        "\n",
        "tok = RegexpTokenizer(\"[\\w]+\") # Alert: You cannot use RegexpTokenizer() without argument. You need a regexpression formula.\n",
        "\n",
        "tk = tok.tokenize(clean_text)\n",
        "print('Tokenizing Words with RegexpTokenizer: %s' %tk)\n",
        "\n",
        "print(' '.join(tk)) #small characters\n",
        "#alternatively, use the codeline of ' '.join(tkn)"
      ],
      "metadata": {
        "colab": {
          "base_uri": "https://localhost:8080/"
        },
        "id": "ctwXWSdaKxBf",
        "outputId": "ec12aa67-23a7-4272-fe09-53ca6b974b33"
      },
      "execution_count": null,
      "outputs": [
        {
          "output_type": "stream",
          "name": "stdout",
          "text": [
            "Sentence Tokenized: [\"text@title@author   one morning a little rabbit sat on a bank  he pricked his ears and listened to the trit-trot trit-trot of a pony  a gig was coming along the road it was driven by mr mcgregor and beside him sat mrs mcgregor in her best bonnet  as soon as they had passed little benjamin bunny slid down into the road and set off with a hop skip and a jump to call upon his relations who lived in the wood at the back of mr mcgregor's garden      that wood was full of rabbit holes and in the neatest sandiest hole of all lived benjamin's aunt and his cousins flopsy mopsy cotton-tail and peter  old mrs rabbit was a widow she earned her living by knitting rabbit-wool mittens and muffatees i once bought a pair at a bazaar she also sold herbs and rosemary tea and rabbit-tobacco which is what we call lavender  little benjamin did not very much want to see his aunt  he came round the back of the fir-tree and nearly tumbled upon the top of his cousin peter      peter was sitting by himself he looked poorly and was dressed in a red cotton pocket-handkerchief  peter said little benjamin in a whisper who has got your clothes  peter replied the scarecrow in mr mcgregor's garden and described how he had been chased about the garden and had dropped his shoes and coat  little benjamin sat down beside his cousin and assured him that mr mcgregor had gone out in a gig and mrs mcgregor also and certainly for the day because she was wearing her best bonnet      peter said he hoped that it would rain  at this point old mrs rabbit's voice was heard inside the rabbit hole calling  cotton-tail cotton-tail fetch some more camomile  peter said he thought he might feel better if he went for a walk  they went away hand in hand and got upon the flat top of the wall at the bottom of the wood from here they looked down into mr mcgregor's garden peter's coat and shoes were plainly to be seen upon the scarecrow topped with an old tam-o'-shanter of mr mcgregor's      little benjamin said  it spoils people's clothes to squeeze under a gate the proper way to get in is to climb down a pear-tree  peter fell down head first but it was of no consequence as the bed below was newly raked and quite soft  it had been sown with lettuces  they left a great many odd little footmarks all over the bed especially little benjamin who was wearing clogs      little benjamin said that the first thing to be done was to get back peter's clothes in order that they might be able to use the pocket-handkerchief  they took them off the scarecrow there had been rain during the night there was water in the shoes and the coat was somewhat shrunk  benjamin tried on the tam-o'-shanter but it was too big for him  then he suggested that they should fill the pocket-handkerchief with onions as a little present for his aunt  peter did not seem to be enjoying himself he kept hearing noises       benjamin on the contrary was perfectly at home and ate a lettuce leaf he said that he was in the habit of coming to the garden with his father to get lettuces for their sunday dinner  the name of little benjamin's papa was old mr benjamin bunny  the lettuces certainly were very fine  peter did not eat anything he said he should like to go home presently he dropped half the onions      little benjamin said that it was not possible to get back up the pear-tree with a load of vegetables he led the way boldly towards the other end of the garden they went along a little walk on planks under a sunny red brick wall  the mice sat on their doorsteps cracking cherry-stones they winked at peter rabbit and little benjamin bunny  presently peter let the pocket-handkerchief go again      they got amongst flower-pots and frames and tubs peter heard noises worse than ever his eyes were as big as lolly-pops  he was a step or two in front of his cousin when he suddenly stopped  this is what those little rabbits saw round that corner  little benjamin took one look and then in half a minute less than no time he hid himself and peter and the onions underneath a large basket      the cat got up and stretched herself and came and sniffed at the basket  perhaps she liked the smell of onions  anyway she sat down upon the top of the basket  she sat there for five hours                                       i cannot draw you a picture of peter and benjamin underneath the basket because it was quite dark and because the smell of onions was fearful it made peter rabbit and little benjamin cry  the sun got round behind the wood and it was quite late in the afternoon but still the cat sat upon the basket      at length there was a pitter-patter pitter-patter and some bits of mortar fell from the wall above  the cat looked up and saw old mr benjamin bunny prancing along the top of the wall of the upper terrace  he was smoking a pipe of rabbit-tobacco and had a little switch in his hand  he was looking for his son  old mr bunny had no opinion whatever of cats  he took a tremendous jump off the top of the wall on to the top of the cat and cuffed it off the basket and kicked it into the greenhouse scratching off a handful of fur  the cat was too much surprised to scratch back      when old mr bunny had driven the cat into the greenhouse he locked the door  then he came back to the basket and took out his son benjamin by the ears and whipped him with the little switch  then he took out his nephew peter  then he took out the handkerchief of onions and marched out of the garden    when mr mcgregor returned about half an hour later he observed several things which perplexed him  it looked as though some person had been walking all over the garden in a pair of clogs only the footmarks were too ridiculously little  also he could not understand how the cat could have managed to shut herself up inside the greenhouse locking the door upon the outside      when peter got home his mother forgave him because she was so glad to see that he had found his shoes and coat cotton-tail and peter folded up the pocket-handkerchief and old mrs rabbit strung up the onions and hung them from the kitchen ceiling with the bunches of herbs and the rabbit-tobacco@the tale of benjamin bunny@beatrix potter\"]\n",
            "Tokenizing Words with RegexpTokenizer: ['text', 'title', 'author', 'one', 'morning', 'a', 'little', 'rabbit', 'sat', 'on', 'a', 'bank', 'he', 'pricked', 'his', 'ears', 'and', 'listened', 'to', 'the', 'trit', 'trot', 'trit', 'trot', 'of', 'a', 'pony', 'a', 'gig', 'was', 'coming', 'along', 'the', 'road', 'it', 'was', 'driven', 'by', 'mr', 'mcgregor', 'and', 'beside', 'him', 'sat', 'mrs', 'mcgregor', 'in', 'her', 'best', 'bonnet', 'as', 'soon', 'as', 'they', 'had', 'passed', 'little', 'benjamin', 'bunny', 'slid', 'down', 'into', 'the', 'road', 'and', 'set', 'off', 'with', 'a', 'hop', 'skip', 'and', 'a', 'jump', 'to', 'call', 'upon', 'his', 'relations', 'who', 'lived', 'in', 'the', 'wood', 'at', 'the', 'back', 'of', 'mr', 'mcgregor', 's', 'garden', 'that', 'wood', 'was', 'full', 'of', 'rabbit', 'holes', 'and', 'in', 'the', 'neatest', 'sandiest', 'hole', 'of', 'all', 'lived', 'benjamin', 's', 'aunt', 'and', 'his', 'cousins', 'flopsy', 'mopsy', 'cotton', 'tail', 'and', 'peter', 'old', 'mrs', 'rabbit', 'was', 'a', 'widow', 'she', 'earned', 'her', 'living', 'by', 'knitting', 'rabbit', 'wool', 'mittens', 'and', 'muffatees', 'i', 'once', 'bought', 'a', 'pair', 'at', 'a', 'bazaar', 'she', 'also', 'sold', 'herbs', 'and', 'rosemary', 'tea', 'and', 'rabbit', 'tobacco', 'which', 'is', 'what', 'we', 'call', 'lavender', 'little', 'benjamin', 'did', 'not', 'very', 'much', 'want', 'to', 'see', 'his', 'aunt', 'he', 'came', 'round', 'the', 'back', 'of', 'the', 'fir', 'tree', 'and', 'nearly', 'tumbled', 'upon', 'the', 'top', 'of', 'his', 'cousin', 'peter', 'peter', 'was', 'sitting', 'by', 'himself', 'he', 'looked', 'poorly', 'and', 'was', 'dressed', 'in', 'a', 'red', 'cotton', 'pocket', 'handkerchief', 'peter', 'said', 'little', 'benjamin', 'in', 'a', 'whisper', 'who', 'has', 'got', 'your', 'clothes', 'peter', 'replied', 'the', 'scarecrow', 'in', 'mr', 'mcgregor', 's', 'garden', 'and', 'described', 'how', 'he', 'had', 'been', 'chased', 'about', 'the', 'garden', 'and', 'had', 'dropped', 'his', 'shoes', 'and', 'coat', 'little', 'benjamin', 'sat', 'down', 'beside', 'his', 'cousin', 'and', 'assured', 'him', 'that', 'mr', 'mcgregor', 'had', 'gone', 'out', 'in', 'a', 'gig', 'and', 'mrs', 'mcgregor', 'also', 'and', 'certainly', 'for', 'the', 'day', 'because', 'she', 'was', 'wearing', 'her', 'best', 'bonnet', 'peter', 'said', 'he', 'hoped', 'that', 'it', 'would', 'rain', 'at', 'this', 'point', 'old', 'mrs', 'rabbit', 's', 'voice', 'was', 'heard', 'inside', 'the', 'rabbit', 'hole', 'calling', 'cotton', 'tail', 'cotton', 'tail', 'fetch', 'some', 'more', 'camomile', 'peter', 'said', 'he', 'thought', 'he', 'might', 'feel', 'better', 'if', 'he', 'went', 'for', 'a', 'walk', 'they', 'went', 'away', 'hand', 'in', 'hand', 'and', 'got', 'upon', 'the', 'flat', 'top', 'of', 'the', 'wall', 'at', 'the', 'bottom', 'of', 'the', 'wood', 'from', 'here', 'they', 'looked', 'down', 'into', 'mr', 'mcgregor', 's', 'garden', 'peter', 's', 'coat', 'and', 'shoes', 'were', 'plainly', 'to', 'be', 'seen', 'upon', 'the', 'scarecrow', 'topped', 'with', 'an', 'old', 'tam', 'o', 'shanter', 'of', 'mr', 'mcgregor', 's', 'little', 'benjamin', 'said', 'it', 'spoils', 'people', 's', 'clothes', 'to', 'squeeze', 'under', 'a', 'gate', 'the', 'proper', 'way', 'to', 'get', 'in', 'is', 'to', 'climb', 'down', 'a', 'pear', 'tree', 'peter', 'fell', 'down', 'head', 'first', 'but', 'it', 'was', 'of', 'no', 'consequence', 'as', 'the', 'bed', 'below', 'was', 'newly', 'raked', 'and', 'quite', 'soft', 'it', 'had', 'been', 'sown', 'with', 'lettuces', 'they', 'left', 'a', 'great', 'many', 'odd', 'little', 'footmarks', 'all', 'over', 'the', 'bed', 'especially', 'little', 'benjamin', 'who', 'was', 'wearing', 'clogs', 'little', 'benjamin', 'said', 'that', 'the', 'first', 'thing', 'to', 'be', 'done', 'was', 'to', 'get', 'back', 'peter', 's', 'clothes', 'in', 'order', 'that', 'they', 'might', 'be', 'able', 'to', 'use', 'the', 'pocket', 'handkerchief', 'they', 'took', 'them', 'off', 'the', 'scarecrow', 'there', 'had', 'been', 'rain', 'during', 'the', 'night', 'there', 'was', 'water', 'in', 'the', 'shoes', 'and', 'the', 'coat', 'was', 'somewhat', 'shrunk', 'benjamin', 'tried', 'on', 'the', 'tam', 'o', 'shanter', 'but', 'it', 'was', 'too', 'big', 'for', 'him', 'then', 'he', 'suggested', 'that', 'they', 'should', 'fill', 'the', 'pocket', 'handkerchief', 'with', 'onions', 'as', 'a', 'little', 'present', 'for', 'his', 'aunt', 'peter', 'did', 'not', 'seem', 'to', 'be', 'enjoying', 'himself', 'he', 'kept', 'hearing', 'noises', 'benjamin', 'on', 'the', 'contrary', 'was', 'perfectly', 'at', 'home', 'and', 'ate', 'a', 'lettuce', 'leaf', 'he', 'said', 'that', 'he', 'was', 'in', 'the', 'habit', 'of', 'coming', 'to', 'the', 'garden', 'with', 'his', 'father', 'to', 'get', 'lettuces', 'for', 'their', 'sunday', 'dinner', 'the', 'name', 'of', 'little', 'benjamin', 's', 'papa', 'was', 'old', 'mr', 'benjamin', 'bunny', 'the', 'lettuces', 'certainly', 'were', 'very', 'fine', 'peter', 'did', 'not', 'eat', 'anything', 'he', 'said', 'he', 'should', 'like', 'to', 'go', 'home', 'presently', 'he', 'dropped', 'half', 'the', 'onions', 'little', 'benjamin', 'said', 'that', 'it', 'was', 'not', 'possible', 'to', 'get', 'back', 'up', 'the', 'pear', 'tree', 'with', 'a', 'load', 'of', 'vegetables', 'he', 'led', 'the', 'way', 'boldly', 'towards', 'the', 'other', 'end', 'of', 'the', 'garden', 'they', 'went', 'along', 'a', 'little', 'walk', 'on', 'planks', 'under', 'a', 'sunny', 'red', 'brick', 'wall', 'the', 'mice', 'sat', 'on', 'their', 'doorsteps', 'cracking', 'cherry', 'stones', 'they', 'winked', 'at', 'peter', 'rabbit', 'and', 'little', 'benjamin', 'bunny', 'presently', 'peter', 'let', 'the', 'pocket', 'handkerchief', 'go', 'again', 'they', 'got', 'amongst', 'flower', 'pots', 'and', 'frames', 'and', 'tubs', 'peter', 'heard', 'noises', 'worse', 'than', 'ever', 'his', 'eyes', 'were', 'as', 'big', 'as', 'lolly', 'pops', 'he', 'was', 'a', 'step', 'or', 'two', 'in', 'front', 'of', 'his', 'cousin', 'when', 'he', 'suddenly', 'stopped', 'this', 'is', 'what', 'those', 'little', 'rabbits', 'saw', 'round', 'that', 'corner', 'little', 'benjamin', 'took', 'one', 'look', 'and', 'then', 'in', 'half', 'a', 'minute', 'less', 'than', 'no', 'time', 'he', 'hid', 'himself', 'and', 'peter', 'and', 'the', 'onions', 'underneath', 'a', 'large', 'basket', 'the', 'cat', 'got', 'up', 'and', 'stretched', 'herself', 'and', 'came', 'and', 'sniffed', 'at', 'the', 'basket', 'perhaps', 'she', 'liked', 'the', 'smell', 'of', 'onions', 'anyway', 'she', 'sat', 'down', 'upon', 'the', 'top', 'of', 'the', 'basket', 'she', 'sat', 'there', 'for', 'five', 'hours', 'i', 'cannot', 'draw', 'you', 'a', 'picture', 'of', 'peter', 'and', 'benjamin', 'underneath', 'the', 'basket', 'because', 'it', 'was', 'quite', 'dark', 'and', 'because', 'the', 'smell', 'of', 'onions', 'was', 'fearful', 'it', 'made', 'peter', 'rabbit', 'and', 'little', 'benjamin', 'cry', 'the', 'sun', 'got', 'round', 'behind', 'the', 'wood', 'and', 'it', 'was', 'quite', 'late', 'in', 'the', 'afternoon', 'but', 'still', 'the', 'cat', 'sat', 'upon', 'the', 'basket', 'at', 'length', 'there', 'was', 'a', 'pitter', 'patter', 'pitter', 'patter', 'and', 'some', 'bits', 'of', 'mortar', 'fell', 'from', 'the', 'wall', 'above', 'the', 'cat', 'looked', 'up', 'and', 'saw', 'old', 'mr', 'benjamin', 'bunny', 'prancing', 'along', 'the', 'top', 'of', 'the', 'wall', 'of', 'the', 'upper', 'terrace', 'he', 'was', 'smoking', 'a', 'pipe', 'of', 'rabbit', 'tobacco', 'and', 'had', 'a', 'little', 'switch', 'in', 'his', 'hand', 'he', 'was', 'looking', 'for', 'his', 'son', 'old', 'mr', 'bunny', 'had', 'no', 'opinion', 'whatever', 'of', 'cats', 'he', 'took', 'a', 'tremendous', 'jump', 'off', 'the', 'top', 'of', 'the', 'wall', 'on', 'to', 'the', 'top', 'of', 'the', 'cat', 'and', 'cuffed', 'it', 'off', 'the', 'basket', 'and', 'kicked', 'it', 'into', 'the', 'greenhouse', 'scratching', 'off', 'a', 'handful', 'of', 'fur', 'the', 'cat', 'was', 'too', 'much', 'surprised', 'to', 'scratch', 'back', 'when', 'old', 'mr', 'bunny', 'had', 'driven', 'the', 'cat', 'into', 'the', 'greenhouse', 'he', 'locked', 'the', 'door', 'then', 'he', 'came', 'back', 'to', 'the', 'basket', 'and', 'took', 'out', 'his', 'son', 'benjamin', 'by', 'the', 'ears', 'and', 'whipped', 'him', 'with', 'the', 'little', 'switch', 'then', 'he', 'took', 'out', 'his', 'nephew', 'peter', 'then', 'he', 'took', 'out', 'the', 'handkerchief', 'of', 'onions', 'and', 'marched', 'out', 'of', 'the', 'garden', 'when', 'mr', 'mcgregor', 'returned', 'about', 'half', 'an', 'hour', 'later', 'he', 'observed', 'several', 'things', 'which', 'perplexed', 'him', 'it', 'looked', 'as', 'though', 'some', 'person', 'had', 'been', 'walking', 'all', 'over', 'the', 'garden', 'in', 'a', 'pair', 'of', 'clogs', 'only', 'the', 'footmarks', 'were', 'too', 'ridiculously', 'little', 'also', 'he', 'could', 'not', 'understand', 'how', 'the', 'cat', 'could', 'have', 'managed', 'to', 'shut', 'herself', 'up', 'inside', 'the', 'greenhouse', 'locking', 'the', 'door', 'upon', 'the', 'outside', 'when', 'peter', 'got', 'home', 'his', 'mother', 'forgave', 'him', 'because', 'she', 'was', 'so', 'glad', 'to', 'see', 'that', 'he', 'had', 'found', 'his', 'shoes', 'and', 'coat', 'cotton', 'tail', 'and', 'peter', 'folded', 'up', 'the', 'pocket', 'handkerchief', 'and', 'old', 'mrs', 'rabbit', 'strung', 'up', 'the', 'onions', 'and', 'hung', 'them', 'from', 'the', 'kitchen', 'ceiling', 'with', 'the', 'bunches', 'of', 'herbs', 'and', 'the', 'rabbit', 'tobacco', 'the', 'tale', 'of', 'benjamin', 'bunny', 'beatrix', 'potter']\n",
            "text title author one morning a little rabbit sat on a bank he pricked his ears and listened to the trit trot trit trot of a pony a gig was coming along the road it was driven by mr mcgregor and beside him sat mrs mcgregor in her best bonnet as soon as they had passed little benjamin bunny slid down into the road and set off with a hop skip and a jump to call upon his relations who lived in the wood at the back of mr mcgregor s garden that wood was full of rabbit holes and in the neatest sandiest hole of all lived benjamin s aunt and his cousins flopsy mopsy cotton tail and peter old mrs rabbit was a widow she earned her living by knitting rabbit wool mittens and muffatees i once bought a pair at a bazaar she also sold herbs and rosemary tea and rabbit tobacco which is what we call lavender little benjamin did not very much want to see his aunt he came round the back of the fir tree and nearly tumbled upon the top of his cousin peter peter was sitting by himself he looked poorly and was dressed in a red cotton pocket handkerchief peter said little benjamin in a whisper who has got your clothes peter replied the scarecrow in mr mcgregor s garden and described how he had been chased about the garden and had dropped his shoes and coat little benjamin sat down beside his cousin and assured him that mr mcgregor had gone out in a gig and mrs mcgregor also and certainly for the day because she was wearing her best bonnet peter said he hoped that it would rain at this point old mrs rabbit s voice was heard inside the rabbit hole calling cotton tail cotton tail fetch some more camomile peter said he thought he might feel better if he went for a walk they went away hand in hand and got upon the flat top of the wall at the bottom of the wood from here they looked down into mr mcgregor s garden peter s coat and shoes were plainly to be seen upon the scarecrow topped with an old tam o shanter of mr mcgregor s little benjamin said it spoils people s clothes to squeeze under a gate the proper way to get in is to climb down a pear tree peter fell down head first but it was of no consequence as the bed below was newly raked and quite soft it had been sown with lettuces they left a great many odd little footmarks all over the bed especially little benjamin who was wearing clogs little benjamin said that the first thing to be done was to get back peter s clothes in order that they might be able to use the pocket handkerchief they took them off the scarecrow there had been rain during the night there was water in the shoes and the coat was somewhat shrunk benjamin tried on the tam o shanter but it was too big for him then he suggested that they should fill the pocket handkerchief with onions as a little present for his aunt peter did not seem to be enjoying himself he kept hearing noises benjamin on the contrary was perfectly at home and ate a lettuce leaf he said that he was in the habit of coming to the garden with his father to get lettuces for their sunday dinner the name of little benjamin s papa was old mr benjamin bunny the lettuces certainly were very fine peter did not eat anything he said he should like to go home presently he dropped half the onions little benjamin said that it was not possible to get back up the pear tree with a load of vegetables he led the way boldly towards the other end of the garden they went along a little walk on planks under a sunny red brick wall the mice sat on their doorsteps cracking cherry stones they winked at peter rabbit and little benjamin bunny presently peter let the pocket handkerchief go again they got amongst flower pots and frames and tubs peter heard noises worse than ever his eyes were as big as lolly pops he was a step or two in front of his cousin when he suddenly stopped this is what those little rabbits saw round that corner little benjamin took one look and then in half a minute less than no time he hid himself and peter and the onions underneath a large basket the cat got up and stretched herself and came and sniffed at the basket perhaps she liked the smell of onions anyway she sat down upon the top of the basket she sat there for five hours i cannot draw you a picture of peter and benjamin underneath the basket because it was quite dark and because the smell of onions was fearful it made peter rabbit and little benjamin cry the sun got round behind the wood and it was quite late in the afternoon but still the cat sat upon the basket at length there was a pitter patter pitter patter and some bits of mortar fell from the wall above the cat looked up and saw old mr benjamin bunny prancing along the top of the wall of the upper terrace he was smoking a pipe of rabbit tobacco and had a little switch in his hand he was looking for his son old mr bunny had no opinion whatever of cats he took a tremendous jump off the top of the wall on to the top of the cat and cuffed it off the basket and kicked it into the greenhouse scratching off a handful of fur the cat was too much surprised to scratch back when old mr bunny had driven the cat into the greenhouse he locked the door then he came back to the basket and took out his son benjamin by the ears and whipped him with the little switch then he took out his nephew peter then he took out the handkerchief of onions and marched out of the garden when mr mcgregor returned about half an hour later he observed several things which perplexed him it looked as though some person had been walking all over the garden in a pair of clogs only the footmarks were too ridiculously little also he could not understand how the cat could have managed to shut herself up inside the greenhouse locking the door upon the outside when peter got home his mother forgave him because she was so glad to see that he had found his shoes and coat cotton tail and peter folded up the pocket handkerchief and old mrs rabbit strung up the onions and hung them from the kitchen ceiling with the bunches of herbs and the rabbit tobacco the tale of benjamin bunny beatrix potter\n"
          ]
        }
      ]
    },
    {
      "cell_type": "markdown",
      "source": [
        "#⚠️ <font color = 'green'>**This is the end of the Script! You did a good job!** **"
      ],
      "metadata": {
        "id": "DUcWWwfGCGf7"
      }
    }
  ]
}